{
 "metadata": {
  "name": "execute_inv_rep"
 },
 "nbformat": 3,
 "nbformat_minor": 0,
 "worksheets": [
  {
   "cells": [
    {
     "cell_type": "code",
     "collapsed": false,
     "input": [
      "try:\n",
      "    reload(ir)\n",
      "except:\n",
      "    import inverted_repeats as ir"
     ],
     "language": "python",
     "metadata": {},
     "outputs": [],
     "prompt_number": 2
    },
    {
     "cell_type": "code",
     "collapsed": false,
     "input": [
      "if __name__ == \"__main__\":\n",
      "    #path = '/Users/alexajo/Dropbox/current/inverted_repeats/data/'\n",
      "    #path = '/projects/454data/in_progress/bastiaan/GM_historic_DNA/Hiseq_pilot/data/'\n",
      "    #path = '/projects/454data/in_progress/bastiaan/GM_historic_DNA/Hiseq_pilot/data/test_Lex/'\n",
      "    infile = '/Users/alexajo/Dropbox/current/inverted_repeats/data/Subset_Lex.fastq'\n",
      "    #infile = 'Determ.Underterm.collapsed.fastq'\n",
      "    #infile = 'All_trimmed_forward.fastq'\n",
      "    #infile = 'temp.fastq'\n",
      "    #infile = 'ancient_dna_terminal_palindrome_test.fastq'\n",
      "    ir.process(infile)"
     ],
     "language": "python",
     "metadata": {},
     "outputs": [
      {
       "output_type": "stream",
       "stream": "stdout",
       "text": [
        "Processing sequences...\n",
        "Writing summary files..."
       ]
      },
      {
       "output_type": "stream",
       "stream": "stdout",
       "text": [
        "\n",
        "Processed 1000 records, found 777 inverted repeats\n"
       ]
      }
     ],
     "prompt_number": 27
    },
    {
     "cell_type": "code",
     "collapsed": false,
     "input": [],
     "language": "python",
     "metadata": {},
     "outputs": []
    }
   ],
   "metadata": {}
  }
 ]
}