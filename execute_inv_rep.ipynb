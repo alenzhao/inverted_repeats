{
 "metadata": {
  "name": "execute_inv_rep"
 },
 "nbformat": 3,
 "nbformat_minor": 0,
 "worksheets": [
  {
   "cells": [
    {
     "cell_type": "code",
     "collapsed": false,
     "input": [
      "import argparse"
     ],
     "language": "python",
     "metadata": {},
     "outputs": [],
     "prompt_number": 1
    },
    {
     "cell_type": "code",
     "collapsed": false,
     "input": [
      "try:\n",
      "    reload(ir)\n",
      "except:\n",
      "    import inverted_repeats as ir"
     ],
     "language": "python",
     "metadata": {},
     "outputs": [],
     "prompt_number": 2
    },
    {
     "cell_type": "code",
     "collapsed": false,
     "input": [
      "parser = argparse.ArgumentParser(description='Help text to be added.')\n",
      "parser.add_argument('-i','--input', help='Input file name',required=True)\n",
      "\n",
      "if __name__ == \"__main__\":\n",
      "    args = parser.parse_args()\n",
      "    ## show values ##\n",
      "    print (\"Input file: %s\" % args.input )\n",
      "    print (\"Output file: %s\" % args.output )\n"
     ],
     "language": "python",
     "metadata": {},
     "outputs": []
    },
    {
     "cell_type": "code",
     "collapsed": false,
     "input": [
      "infile = '/Users/alexajo/Dropbox/current/inverted_repeats/data/Subset_Lex.fastq'\n",
      "ir.process(infile)"
     ],
     "language": "python",
     "metadata": {},
     "outputs": [
      {
       "output_type": "stream",
       "stream": "stdout",
       "text": [
        "Processing sequences...\n",
        "Writing summary files..."
       ]
      },
      {
       "output_type": "stream",
       "stream": "stdout",
       "text": [
        "\n",
        "Processed 1000 records, found 777 inverted repeats\n"
       ]
      }
     ],
     "prompt_number": 4
    },
    {
     "cell_type": "code",
     "collapsed": false,
     "input": [],
     "language": "python",
     "metadata": {},
     "outputs": []
    }
   ],
   "metadata": {}
  }
 ]
}