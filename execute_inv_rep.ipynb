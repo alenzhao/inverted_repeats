{
 "metadata": {
  "name": "execute_inv_rep"
 },
 "nbformat": 3,
 "nbformat_minor": 0,
 "worksheets": [
  {
   "cells": [
    {
     "cell_type": "code",
     "collapsed": false,
     "input": [
      "import argparse"
     ],
     "language": "python",
     "metadata": {},
     "outputs": [],
     "prompt_number": 1
    },
    {
     "cell_type": "code",
     "collapsed": false,
     "input": [
      "try:\n",
      "    reload(ir)\n",
      "except:\n",
      "    import inverted_repeats as ir"
     ],
     "language": "python",
     "metadata": {},
     "outputs": [],
     "prompt_number": 2
    },
    {
     "cell_type": "code",
     "collapsed": false,
     "input": [
      "desc = (\"\"\"Strips off the 3' copy of any inverted repeat.\\n\n",
      "Input: one fastq file\\n\n",
      "Output:\n",
      "1) a new fastq file with cleaned sequences\n",
      "'infile.fastq' generates 'infile.clean.fastq'\n",
      "2) a file called infile.inv_reps.txt with the stripped sequences and their counts.\n",
      "3) a file called infile.inv_rep_lengths.txt with the length distribution of the stripped sequences.\n",
      "\"\"\")"
     ],
     "language": "python",
     "metadata": {},
     "outputs": [],
     "prompt_number": 20
    },
    {
     "cell_type": "code",
     "collapsed": false,
     "input": [
      "parser = argparse.ArgumentParser(description=desc)\n",
      "parser.add_argument('-i','--input', help='Input file name',required=True)\n",
      "\n",
      "if __name__ == \"__main__\":\n",
      "    args = parser.parse_args()\n",
      "    ## show values ##\n",
      "    print (\"Input file: %s\" % args.input )\n",
      "    ir.process(args.input)"
     ],
     "language": "python",
     "metadata": {},
     "outputs": [
      {
       "ename": "SystemExit",
       "evalue": "2",
       "output_type": "pyerr",
       "traceback": [
        "An exception has occurred, use %tb to see the full traceback.\n",
        "\u001b[0;31mSystemExit\u001b[0m\u001b[0;31m:\u001b[0m 2\n"
       ]
      },
      {
       "output_type": "stream",
       "stream": "stderr",
       "text": [
        "usage: -c [-h] -i INPUT\n",
        "-c: error: argument -i/--input is required\n",
        "To exit: use 'exit', 'quit', or Ctrl-D."
       ]
      }
     ],
     "prompt_number": 21
    },
    {
     "cell_type": "code",
     "collapsed": false,
     "input": [],
     "language": "python",
     "metadata": {},
     "outputs": []
    }
   ],
   "metadata": {}
  }
 ]
}