{
 "metadata": {
  "name": "find_inverted_repeats"
 },
 "nbformat": 3,
 "nbformat_minor": 0,
 "worksheets": [
  {
   "cells": [
    {
     "cell_type": "code",
     "collapsed": false,
     "input": [
      "from clip_inverted_repeats import find_inv_repeat\n",
      "from Bio.Seq import Seq\n",
      "from Bio.SeqRecord import SeqRecord"
     ],
     "language": "python",
     "metadata": {},
     "outputs": [],
     "prompt_number": 1
    },
    {
     "cell_type": "code",
     "collapsed": false,
     "input": [
      "revcomp = {}\n",
      "a = 'ACGT'\n",
      "for i in a:\n",
      "    for j in a:\n",
      "        for k in a:\n",
      "            revcomp[i+j+k] = str(Seq(i+j+k).reverse_complement())"
     ],
     "language": "python",
     "metadata": {},
     "outputs": [],
     "prompt_number": 28
    },
    {
     "cell_type": "code",
     "collapsed": false,
     "input": [
      "seq = 'TGTGTGTGTGTATCGTGTGGGGTTGTGTTTGGCTGCGGTCGGTCCACACACACA' + 'CTAATATTTGCCAGCATGCAAGCGAAAAATATTAG' + 'AAATGGGCCCACATGCGTGCCTGTGTGTGTGTTTGTGGGCCCATTT'\n",
      "#seq = 'AGTCGTAGCTGATGCTTAGGGGCTTACTAGGCTTGAAGCTACGACT' # first test case from clip_inverted_repeats\n",
      "len(seq)"
     ],
     "language": "python",
     "metadata": {},
     "outputs": [
      {
       "output_type": "pyout",
       "prompt_number": 80,
       "text": [
        "135"
       ]
      }
     ],
     "prompt_number": 80
    },
    {
     "cell_type": "code",
     "collapsed": false,
     "input": [
      "startpos = 54 # 89 # 54 0\n",
      "trimer = seq[startpos:startpos + 3]\n",
      "trimer"
     ],
     "language": "python",
     "metadata": {},
     "outputs": [
      {
       "output_type": "pyout",
       "prompt_number": 91,
       "text": [
        "'CTA'"
       ]
      }
     ],
     "prompt_number": 91
    },
    {
     "cell_type": "code",
     "collapsed": false,
     "input": [
      "hit = seq.rfind(revcomp[trimer]) + len(trimer)\n",
      "len(seq), hit"
     ],
     "language": "python",
     "metadata": {},
     "outputs": [
      {
       "output_type": "pyout",
       "prompt_number": 92,
       "text": [
        "(135, 89)"
       ]
      }
     ],
     "prompt_number": 92
    },
    {
     "cell_type": "code",
     "collapsed": false,
     "input": [
      "subseq = seq[startpos:hit]\n",
      "test_for_inv_repeat(subseq)"
     ],
     "language": "python",
     "metadata": {},
     "outputs": [
      {
       "output_type": "stream",
       "stream": "stdout",
       "text": [
        "CTAATATTTGCCAGCATGCAAGCGAAAAATATTAG 9\n",
        "CTAATATTT-GCCAGCATGCAAGCGAA-AAATATTAG\n"
       ]
      }
     ],
     "prompt_number": 93
    },
    {
     "cell_type": "code",
     "collapsed": false,
     "input": [
      "def test_for_inv_repeat(subseq):\n",
      "    inv_rep_len = find_inv_repeat(subseq,str(Seq(subseq).reverse_complement()))\n",
      "    if inv_rep_len > 0:\n",
      "        print subseq, inv_rep_len\n",
      "        print subseq[:inv_rep_len] + \"-\" + subseq[inv_rep_len:-inv_rep_len]  + \"-\" + subseq[-inv_rep_len:]\n",
      "    else:\n",
      "        print \"No hit\""
     ],
     "language": "python",
     "metadata": {},
     "outputs": [],
     "prompt_number": 78
    },
    {
     "cell_type": "code",
     "collapsed": false,
     "input": [
      "def reverse_complement(seq):\n",
      "    return str(Seq(seq).reverse_complement())"
     ],
     "language": "python",
     "metadata": {},
     "outputs": [],
     "prompt_number": 52
    },
    {
     "cell_type": "code",
     "collapsed": false,
     "input": [
      "seq[0:4], seq[0:48][-4:]\n"
     ],
     "language": "python",
     "metadata": {},
     "outputs": [
      {
       "output_type": "pyout",
       "prompt_number": 51,
       "text": [
        "('TGTG', 'CACA')"
       ]
      }
     ],
     "prompt_number": 51
    },
    {
     "cell_type": "code",
     "collapsed": false,
     "input": [
      "seq2 = 'TGTGTGTGTGTATCGTGTGGGGTTGTGTTTGGCTGCGGTCGGTCCACACACACA'\n",
      "inv_rep_len = find_inv_repeat(seq2, reverse_complement(seq2))\n",
      "print seq2[-inv_rep_len:]\n"
     ],
     "language": "python",
     "metadata": {},
     "outputs": [
      {
       "output_type": "stream",
       "stream": "stdout",
       "text": [
        "CACACACACA\n"
       ]
      }
     ],
     "prompt_number": 62
    },
    {
     "cell_type": "code",
     "collapsed": false,
     "input": [],
     "language": "python",
     "metadata": {},
     "outputs": [],
     "prompt_number": 26
    },
    {
     "cell_type": "code",
     "collapsed": false,
     "input": [
      "revcomp"
     ],
     "language": "python",
     "metadata": {},
     "outputs": [
      {
       "output_type": "pyout",
       "prompt_number": 27,
       "text": [
        "{'AAA': 'TTT',\n",
        " 'AAC': 'GTT',\n",
        " 'AAG': 'CTT',\n",
        " 'AAT': 'ATT',\n",
        " 'ACA': 'TGT',\n",
        " 'ACC': 'GGT',\n",
        " 'ACG': 'CGT',\n",
        " 'ACT': 'AGT',\n",
        " 'AGA': 'TCT',\n",
        " 'AGC': 'GCT',\n",
        " 'AGG': 'CCT',\n",
        " 'AGT': 'ACT',\n",
        " 'ATA': 'TAT',\n",
        " 'ATC': 'GAT',\n",
        " 'ATG': 'CAT',\n",
        " 'ATT': 'AAT',\n",
        " 'CAA': 'TTG',\n",
        " 'CAC': 'GTG',\n",
        " 'CAG': 'CTG',\n",
        " 'CAT': 'ATG',\n",
        " 'CCA': 'TGG',\n",
        " 'CCC': 'GGG',\n",
        " 'CCG': 'CGG',\n",
        " 'CCT': 'AGG',\n",
        " 'CGA': 'TCG',\n",
        " 'CGC': 'GCG',\n",
        " 'CGG': 'CCG',\n",
        " 'CGT': 'ACG',\n",
        " 'CTA': 'TAG',\n",
        " 'CTC': 'GAG',\n",
        " 'CTG': 'CAG',\n",
        " 'CTT': 'AAG',\n",
        " 'GAA': 'TTC',\n",
        " 'GAC': 'GTC',\n",
        " 'GAG': 'CTC',\n",
        " 'GAT': 'ATC',\n",
        " 'GCA': 'TGC',\n",
        " 'GCC': 'GGC',\n",
        " 'GCG': 'CGC',\n",
        " 'GCT': 'AGC',\n",
        " 'GGA': 'TCC',\n",
        " 'GGC': 'GCC',\n",
        " 'GGG': 'CCC',\n",
        " 'GGT': 'ACC',\n",
        " 'GTA': 'TAC',\n",
        " 'GTC': 'GAC',\n",
        " 'GTG': 'CAC',\n",
        " 'GTT': 'AAC',\n",
        " 'TAA': 'TTA',\n",
        " 'TAC': 'GTA',\n",
        " 'TAG': 'CTA',\n",
        " 'TAT': 'ATA',\n",
        " 'TCA': 'TGA',\n",
        " 'TCC': 'GGA',\n",
        " 'TCG': 'CGA',\n",
        " 'TCT': 'AGA',\n",
        " 'TGA': 'TCA',\n",
        " 'TGC': 'GCA',\n",
        " 'TGG': 'CCA',\n",
        " 'TGT': 'ACA',\n",
        " 'TTA': 'TAA',\n",
        " 'TTC': 'GAA',\n",
        " 'TTG': 'CAA',\n",
        " 'TTT': 'AAA'}"
       ]
      }
     ],
     "prompt_number": 27
    },
    {
     "cell_type": "code",
     "collapsed": false,
     "input": [],
     "language": "python",
     "metadata": {},
     "outputs": []
    }
   ],
   "metadata": {}
  }
 ]
}