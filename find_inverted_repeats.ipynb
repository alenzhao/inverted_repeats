{
 "metadata": {
  "name": "find_inverted_repeats"
 },
 "nbformat": 3,
 "nbformat_minor": 0,
 "worksheets": [
  {
   "cells": [
    {
     "cell_type": "code",
     "collapsed": false,
     "input": [
      "from clip_inverted_repeats import find_inv_repeat\n",
      "from Bio.Seq import Seq\n",
      "from Bio.SeqRecord import SeqRecord"
     ],
     "language": "python",
     "metadata": {},
     "outputs": [],
     "prompt_number": 1
    },
    {
     "cell_type": "code",
     "collapsed": false,
     "input": [
      "revcomp = {}\n",
      "seed = 3 # number of bp to start searching for inv_rep\n",
      "a = 'ACGT'\n",
      "for i in a:\n",
      "    for j in a:\n",
      "        for k in a:\n",
      "            revcomp[i+j+k] = str(Seq(i+j+k).reverse_complement())"
     ],
     "language": "python",
     "metadata": {},
     "outputs": [],
     "prompt_number": 11
    },
    {
     "cell_type": "code",
     "collapsed": false,
     "input": [
      "#def reverse_complement(seq):\n",
      "#    return str(Seq(seq).reverse_complement())"
     ],
     "language": "python",
     "metadata": {},
     "outputs": [],
     "prompt_number": 52
    },
    {
     "cell_type": "code",
     "collapsed": false,
     "input": [
      "seq = 'TGTGTGTGTGTATCGTGTGGGGTTGTGTTTGGCTGCGGTCGGTCCACACACACA' + 'CTAATATTTGCCAGCATGCAAGCGAAAAATATTAG' + 'AAATGGGCCCACATGCGTGCCTGTGTGTGTGTTTGTGGGCCCATTT'\n",
      "#seq = 'AGTCGTAGCTGATGCTTAGGGGCTTACTAGGCTTGAAGCTACGACT' # first test case from clip_inverted_repeats\n",
      "len(seq)"
     ],
     "language": "python",
     "metadata": {},
     "outputs": [
      {
       "output_type": "pyout",
       "prompt_number": 12,
       "text": [
        "135"
       ]
      }
     ],
     "prompt_number": 12
    },
    {
     "cell_type": "code",
     "collapsed": false,
     "input": [
      "def test_for_inv_repeat(subseq):\n",
      "    inv_rep_len = find_inv_repeat(subseq,str(Seq(subseq).reverse_complement()))\n",
      "    if inv_rep_len > 0:\n",
      "        return str(inv_rep_len) + \": \" + subseq[:inv_rep_len] + \"-\" + subseq[inv_rep_len:-inv_rep_len]  + \"-\" + subseq[-inv_rep_len:]\n",
      "    else:\n",
      "        return \"No hit\""
     ],
     "language": "python",
     "metadata": {},
     "outputs": [],
     "prompt_number": 56
    },
    {
     "cell_type": "code",
     "collapsed": false,
     "input": [
      "for pos in range(len(seq) - seed + 1):\n",
      "    mer = seq[pos:pos + seed]\n",
      "    hit = seq.rfind(revcomp[mer]) + len(mer)\n",
      "    subseq = seq[pos:hit]\n",
      "    print str(pos) + '--> ' + test_for_inv_repeat(subseq)"
     ],
     "language": "python",
     "metadata": {},
     "outputs": [
      {
       "output_type": "stream",
       "stream": "stdout",
       "text": [
        "0--> 4: TGTG-TGTGTGTATCGTGTGGGGTTGTGTTTGGCTGCGGTCGGTCCACACACACACTAATATTTGCCAGCATGCAAGCGAAAAATATTAGAAATGGGCC-CACA\n",
        "1--> 3: GTG-TGTGTGTATCGTGTGGGGTTGTGTTTGGCTGCGGTCGGTCCACACACACACTAATATTTGCCAGCATGCAAGCGAAAAATATTAGAAATGGGCC-CAC\n",
        "2--> 4: TGTG-TGTGTATCGTGTGGGGTTGTGTTTGGCTGCGGTCGGTCCACACACACACTAATATTTGCCAGCATGCAAGCGAAAAATATTAGAAATGGGCC-CACA\n",
        "3--> 3: GTG-TGTGTATCGTGTGGGGTTGTGTTTGGCTGCGGTCGGTCCACACACACACTAATATTTGCCAGCATGCAAGCGAAAAATATTAGAAATGGGCC-CAC\n",
        "4--> 4: TGTG-TGTATCGTGTGGGGTTGTGTTTGGCTGCGGTCGGTCCACACACACACTAATATTTGCCAGCATGCAAGCGAAAAATATTAGAAATGGGCC-CACA\n",
        "5--> 3: GTG-TGTATCGTGTGGGGTTGTGTTTGGCTGCGGTCGGTCCACACACACACTAATATTTGCCAGCATGCAAGCGAAAAATATTAGAAATGGGCC-CAC\n",
        "6--> 4: TGTG-TATCGTGTGGGGTTGTGTTTGGCTGCGGTCGGTCCACACACACACTAATATTTGCCAGCATGCAAGCGAAAAATATTAGAAATGGGCC-CACA\n",
        "7--> 3: GTG-TATCGTGTGGGGTTGTGTTTGGCTGCGGTCGGTCCACACACACACTAATATTTGCCAGCATGCAAGCGAAAAATATTAGAAATGGGCC-CAC\n",
        "8--> 3: TGT-ATCGTGTGGGGTTGTGTTTGGCTGCGGTCGGTCCACACACACACTAATATTTGCCAGCATGCAAGCGAAAAATATTAGAAATGGGCCC-ACA\n",
        "9--> No hit\n",
        "10--> 3: TAT-CGTGTGGGGTTGTGTTTGGCTGCGGTCGGTCCACACACACACTAATATTTGCCAGCATGCAAGCGAAAA-ATA\n",
        "11--> No hit\n",
        "12--> 3: TCG-TGTGGGGTTGTGTTTGGCTGCGGTCGGTCCACACACACACTAATATTTGCCAGCATGCAAG-CGA\n",
        "13--> No hit\n",
        "14--> 3: GTG-TGGGGTTGTGTTTGGCTGCGGTCGGTCCACACACACACTAATATTTGCCAGCATGCAAGCGAAAAATATTAGAAATGGGCC-CAC\n",
        "15--> 6: TGTGGG-GTTGTGTTTGGCTGCGGTCGGTCCACACACACACTAATATTTGCCAGCATGCAAGCGAAAAATATTAGAAATGGG-CCCACA\n",
        "16--> 5: GTGGG-GTTGTGTTTGGCTGCGGTCGGTCCACACACACACTAATATTTGCCAGCATGCAAGCGAAAAATATTAGAAATGGG-CCCAC\n",
        "17--> 4: TGGG-GTTGTGTTTGGCTGCGGTCGGTCCACACACACACTAATATTTGCCAGCATGCAAGCGAAAAATATTAGAAATGGGCCCACATGCGTGCCTGTGTGTGTGTTTGTGGG-CCCA\n",
        "18--> 3: GGG-GTTGTGTTTGGCTGCGGTCGGTCCACACACACACTAATATTTGCCAGCATGCAAGCGAAAAATATTAGAAATGGGCCCACATGCGTGCCTGTGTGTGTGTTTGTGGG-CCC\n",
        "19--> 3: GGG-TTGTGTTTGGCTGCGGTCGGTCCACACACACACTAATATTTGCCAGCATGCAAGCGAAAAATATTAGAAATGGGCCCACATGCGTGCCTGTGTGTGTGTTTGTGGG-CCC\n",
        "20--> No hit\n",
        "21--> No hit\n",
        "22--> 3: TTG-TGTTTGGCTGCGGTCGGTCCACACACACACTAATATTTGCCAGCATG-CAA\n",
        "23--> 4: TGTG-TTTGGCTGCGGTCGGTCCACACACACACTAATATTTGCCAGCATGCAAGCGAAAAATATTAGAAATGGGCC-CACA\n",
        "24--> 3: GTG-TTTGGCTGCGGTCGGTCCACACACACACTAATATTTGCCAGCATGCAAGCGAAAAATATTAGAAATGGGCC-CAC\n",
        "25--> 3: TGT-TTGGCTGCGGTCGGTCCACACACACACTAATATTTGCCAGCATGCAAGCGAAAAATATTAGAAATGGGCCC-ACA\n",
        "26--> No hit\n",
        "27--> 3: TTT-GGCTGCGGTCGGTCCACACACACACTAATATTTGCCAGCATGCAAGCGAAAAATATTAG-AAA\n",
        "28--> 3: TTG-GCTGCGGTCGGTCCACACACACACTAATATTTGCCAGCATG-CAA\n",
        "29--> 3: TGG-CTGCGGTCGGTCCACACACACACTAATATTTGCCAGCATGCAAGCGAAAAATATTAGAAATGGGCCCACATGCGTGCCTGTGTGTGTGTTTGTGGGC-CCA\n",
        "30--> 3: GGC-TGCGGTCGGTCCACACACACACTAATATTTGCCAGCATGCAAGCGAAAAATATTAGAAATGGGCCCACATGCGTGCCTGTGTGTGTGTTTGTGG-GCC\n",
        "31--> 3: GCT-GCGGTCGGTCCACACACACACTAATATTTGCCAGCATGCA-AGC\n",
        "32--> 3: CTG-CGGTCGGTCCACACACACACTAATATTTGC-CAG\n",
        "33--> 3: TGC-GGTCGGTCCACACACACACTAATATTTGCCAGCAT-GCA\n",
        "34--> No hit\n",
        "35--> No hit\n",
        "36--> No hit\n",
        "37--> No hit\n",
        "38--> 3: TCG-GTCCACACACACACTAATATTTGCCAGCATGCAAG-CGA\n",
        "39--> No hit\n",
        "40--> No hit\n",
        "41--> No hit\n",
        "42--> No hit\n",
        "43--> 5: CCACA-CACACACTAATATTTGCCAGCATGCAAGCGAAAAATATTAGAAATGGGCCCACATGCGTGCCTGTGTGTGTGTT-TGTGG\n",
        "44--> 4: CACA-CACACACTAATATTTGCCAGCATGCAAGCGAAAAATATTAGAAATGGGCCCACATGCGTGCCTGTGTGTGTGTT-TGTG\n",
        "45--> 3: ACA-CACACACTAATATTTGCCAGCATGCAAGCGAAAAATATTAGAAATGGGCCCACATGCGTGCCTGTGTGTGTGTT-TGT\n",
        "46--> 4: CACA-CACACTAATATTTGCCAGCATGCAAGCGAAAAATATTAGAAATGGGCCCACATGCGTGCCTGTGTGTGTGTT-TGTG\n",
        "47--> 3: ACA-CACACTAATATTTGCCAGCATGCAAGCGAAAAATATTAGAAATGGGCCCACATGCGTGCCTGTGTGTGTGTT-TGT\n",
        "48--> 4: CACA-CACTAATATTTGCCAGCATGCAAGCGAAAAATATTAGAAATGGGCCCACATGCGTGCCTGTGTGTGTGTT-TGTG\n",
        "49--> 3: ACA-CACTAATATTTGCCAGCATGCAAGCGAAAAATATTAGAAATGGGCCCACATGCGTGCCTGTGTGTGTGTT-TGT\n",
        "50--> 4: CACA-CTAATATTTGCCAGCATGCAAGCGAAAAATATTAGAAATGGGCCCACATGCGTGCCTGTGTGTGTGTT-TGTG\n",
        "51--> 3: ACA-CTAATATTTGCCAGCATGCAAGCGAAAAATATTAGAAATGGGCCCACATGCGTGCCTGTGTGTGTGTT-TGT\n",
        "52--> 3: CAC-TAATATTTGCCAGCATGCAAGCGAAAAATATTAGAAATGGGCCCACATGCGTGCCTGTGTGTGTGTTT-GTG\n",
        "53--> No hit\n",
        "54--> 9: CTAATATTT-GCCAGCATGCAAGCGAA-AAATATTAG\n",
        "55--> 8: TAATATTT-GCCAGCATGCAAGCGAA-AAATATTA\n",
        "56--> 3: AAT-ATTTGCCAGCATGCAAGCGAAAAATATTAGAAATGGGCCCACATGCGTGCCTGTGTGTGTGTTTGTGGGCCC-ATT\n",
        "57--> 6: ATATTT-GCCAGCATGCAAGCGAA-AAATAT\n",
        "58--> 5: TATTT-GCCAGCATGCAAGCGAA-AAATA\n",
        "59--> 4: ATTT-GCCAGCATGCAAGCGAAAAATATTAG-AAAT\n",
        "60--> 3: TTT-GCCAGCATGCAAGCGAAAAATATTAG-AAA\n",
        "61--> 4: TTGC-CAGCAT-GCAA\n",
        "62--> 3: TGC-CAGCAT-GCA\n",
        "63--> 3: GCC-AGCATGCAAGCGAAAAATATTAGAAATGGGCCCACATGCGTGCCTGTGTGTGTGTTTGTG-GGC\n",
        "64--> 3: CCA-GCATGCAAGCGAAAAATATTAGAAATGGGCCCACATGCGTGCCTGTGTGTGTGTTTG-TGG\n",
        "65--> 3: CAG-CATGCAAGCGAAAAATATTAGAAATGGGCCCACATGCGTGC-CTG\n",
        "66--> No hit\n",
        "67--> 3: GCA-TGCAAGCGAAAAATATTAGAAATGGGCCCACATGCG-TGC\n",
        "68--> 4: CATG-CAAGCGAAAAATATTAGAAATGGGCCCA-CATG\n",
        "69--> 3: ATG-CAAGCGAAAAATATTAGAAATGGGCCCACATGCGTGCCTGTGTGTGTGTTTGTGGGCC-CAT\n",
        "70--> 4: TGCA--TGCA\n",
        "71--> 3: GCA-AGCGAAAAATATTAGAAATGGGCCCACATGCG-TGC\n",
        "72--> 3: CAA-GCGAAAAATATTAGAAATGGGCCCACATGCGTGCCTGTGTGTGTGT-TTG\n",
        "73--> No hit\n",
        "74--> No hit\n",
        "75--> No hit\n",
        "76--> No hit\n",
        "77--> No hit\n",
        "78--> 3: AAA-AATATTAGAAATGGGCCCACATGCGTGCCTGTGTGTGTGTTTGTGGGCCCA-TTT\n",
        "79--> 3: AAA-ATATTAGAAATGGGCCCACATGCGTGCCTGTGTGTGTGTTTGTGGGCCCA-TTT\n",
        "80--> 4: AAAT-ATTAGAAATGGGCCCACATGCGTGCCTGTGTGTGTGTTTGTGGGCCC-ATTT\n",
        "81--> 3: AAT-ATTAGAAATGGGCCCACATGCGTGCCTGTGTGTGTGTTTGTGGGCCC-ATT\n",
        "82--> 4: ATAT--ATAT\n",
        "83--> 2: TA--TA\n",
        "84--> 3: ATT-AGA-AAT\n",
        "85--> No hit\n",
        "86--> No hit\n",
        "87--> No hit\n",
        "88--> No hit\n",
        "89--> 13: AAATGGGCCCACA-TGCGTGCCTGTGTGTGTGTT-TGTGGGCCCATTT\n",
        "90--> 12: AATGGGCCCACA-TGCGTGCCTGTGTGTGTGTT-TGTGGGCCCATT\n",
        "91--> 11: ATGGGCCCACA-TGCGTGCCTGTGTGTGTGTT-TGTGGGCCCAT\n",
        "92--> 10: TGGGCCCACA-TGCGTGCCTGTGTGTGTGTT-TGTGGGCCCA\n",
        "93--> 9: GGGCCCACA-TGCGTGCCTGTGTGTGTGTT-TGTGGGCCC\n",
        "94--> 8: GGCCCACA-TGCGTGCCTGTGTGTGTGTT-TGTGGGCC\n",
        "95--> 7: GCCCACA-TGCGTGCCTGTGTGTGTGTT-TGTGGGC\n",
        "96--> 6: CCCACA-TGCGTGCCTGTGTGTGTGTT-TGTGGG\n",
        "97--> 5: CCACA-TGCGTGCCTGTGTGTGTGTT-TGTGG\n",
        "98--> 4: CACA-TGCGTGCCTGTGTGTGTGTT-TGTG\n",
        "99--> 3: ACA-TGCGTGCCTGTGTGTGTGTT-TGT\n",
        "100--> 4: CATG--CATG\n",
        "101--> 3: ATG-CGTGCCTGTGTGTGTGTTTGTGGGCC-CAT\n",
        "102--> No hit\n",
        "103--> No hit\n",
        "104--> No hit\n",
        "105--> No hit\n",
        "106--> No hit\n",
        "107--> 3: GCC-TGTGTGTGTGTTTGTG-GGC\n",
        "108--> No hit\n",
        "109--> No hit\n",
        "110--> No hit\n",
        "111--> No hit\n",
        "112--> No hit\n",
        "113--> No hit\n",
        "114--> No hit\n",
        "115--> No hit\n",
        "116--> No hit\n",
        "117--> No hit\n",
        "118--> No hit\n",
        "119--> No hit\n",
        "120--> No hit\n",
        "121--> No hit\n",
        "122--> No hit\n",
        "123--> No hit\n",
        "124--> 8: TGGGCCCA--TGGGCCCA\n",
        "125--> 6: GGGCCC--GGGCCC\n",
        "126--> 4: GGCC--GGCC\n",
        "127--> 2: GC--GC\n",
        "128--> No hit\n",
        "129--> No hit\n",
        "130--> No hit\n",
        "131--> No hit\n",
        "132--> No hit\n"
       ]
      }
     ],
     "prompt_number": 58
    },
    {
     "cell_type": "code",
     "collapsed": false,
     "input": [
      "def add_character(current, max):\n",
      "    text = current + 'a'\n",
      "    if len(text) >= max:\n",
      "        return text\n",
      "    else:\n",
      "        return add_character(text, max)\n",
      "res = add_character('', 4)\n",
      "print res"
     ],
     "language": "python",
     "metadata": {},
     "outputs": [
      {
       "output_type": "stream",
       "stream": "stdout",
       "text": [
        "aaaa\n"
       ]
      }
     ],
     "prompt_number": 3
    },
    {
     "cell_type": "code",
     "collapsed": false,
     "input": [
      "def mers(mer,nested, max):\n",
      "    for base in bases:\n",
      "        mer = mer + base\n",
      "        nested += 1\n",
      "        print '-'.join([str(nested), mer])\n",
      "    if nested >= max:\n",
      "        return mer\n",
      "    else:\n",
      "        return mers(mer, nested, max)\n",
      "\n",
      "bases = 'ACGT'\n",
      "nested = 0\n",
      "res = mers('',0, 3)\n",
      "print res"
     ],
     "language": "python",
     "metadata": {},
     "outputs": [
      {
       "output_type": "stream",
       "stream": "stdout",
       "text": [
        "1-A\n",
        "2-AC\n",
        "3-ACG\n",
        "4-ACGT\n",
        "ACGT\n"
       ]
      }
     ],
     "prompt_number": 10
    },
    {
     "cell_type": "code",
     "collapsed": false,
     "input": [
      "def nested(text, level):\n",
      "    level += 1\n",
      "    for i in 'ACGT':\n",
      "        text += i\n",
      "        print level, i, text\n",
      "        if level < 3:\n",
      "            nested(i, level)\n",
      "        else:\n",
      "            pass\n",
      "            print \"####\"\n",
      "    \n",
      "\n",
      "nested('', -1)\n",
      "    "
     ],
     "language": "python",
     "metadata": {},
     "outputs": [],
     "prompt_number": 5
    },
    {
     "cell_type": "code",
     "collapsed": false,
     "input": [],
     "language": "python",
     "metadata": {},
     "outputs": []
    }
   ],
   "metadata": {}
  }
 ]
}