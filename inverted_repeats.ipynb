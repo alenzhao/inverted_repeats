{
 "metadata": {
  "name": "ancient_dna_terminal_palindrome"
 },
 "nbformat": 3,
 "nbformat_minor": 0,
 "worksheets": [
  {
   "cells": [
    {
     "cell_type": "code",
     "collapsed": false,
     "input": [
      "from Bio import Seq, SeqIO\n",
      "from Bio.Seq import Seq\n",
      "from Bio.SeqRecord import SeqRecord\n",
      "import os"
     ],
     "language": "python",
     "metadata": {},
     "outputs": [],
     "prompt_number": 1
    },
    {
     "cell_type": "code",
     "collapsed": false,
     "input": [
      "# global parameters\n",
      "shortest_length_to_check = 3\n",
      "longest_length_to_check = 200"
     ],
     "language": "python",
     "metadata": {},
     "outputs": [],
     "prompt_number": 33
    },
    {
     "cell_type": "code",
     "collapsed": false,
     "input": [
      "def isSequence(seq):\n",
      "    \"\"\"Check input is a sequence\"\"\"\n",
      "    test = True if type(seq) is Seq else False\n",
      "    test = True if len(seq) > 0 else False\n",
      "    return test"
     ],
     "language": "python",
     "metadata": {},
     "outputs": [],
     "prompt_number": 3
    },
    {
     "cell_type": "code",
     "collapsed": false,
     "input": [
      "def check(seq):\n",
      "    \"\"\"Check whether first x bases are the reverse complement of the last x bases\n",
      "       Returns sequence with the palindromic part removed, and the palindromic part\"\"\"\n",
      "    # expects a Bio.SeqRecord.SeqRecord\n",
      "    assert type(seq) == SeqRecord, \"Not a sequence record: \" + str(seq)\n",
      "    assert len(seq) > 0, \"Sequence length is zero: \" + str(seq)\n",
      "    palindrome_length = 0\n",
      "    # need to test whether seq is a reverse complement of itself\n",
      "    pass\n",
      "    # check if first x bases are a reverse complement of the last x bases\n",
      "    for i in range(len(seq)):\n",
      "        subseq = seq[0:i]\n",
      "        #print str(rec[-10:].reverse_complement().seq) == str(rec[0:10].seq)\n",
      "        if str(subseq.reverse_complement().seq) == str(seq[-i:].seq):\n",
      "            #print i, subseq.reverse_complement(), seq[-i:]\n",
      "            palindrome_length = len(subseq)\n",
      "        # check when no longer adding bases to palindrome\n",
      "        if palindrome_length > 0 and i > palindrome_length:\n",
      "            break\n",
      "        # check for maximum length to check reached\n",
      "        if i == longest_length_to_check - 1:\n",
      "            break\n",
      "        if palindrome_length > 0:\n",
      "            new_seq = seq[:-palindrome_length]\n",
      "            palindrome = str(seq[-palindrome_length:].seq)\n",
      "        else:\n",
      "            new_seq = seq\n",
      "            palindrome = ''\n",
      "    return [new_seq, palindrome, palindrome_length]"
     ],
     "language": "python",
     "metadata": {},
     "outputs": [],
     "prompt_number": 4
    },
    {
     "cell_type": "code",
     "collapsed": false,
     "input": [
      "def test(seq):\n",
      "    [new_seq, palindrome, palindrome_length] = check(SeqRecord(Seq(seq)))\n",
      "    return [str(new_seq.seq), palindrome, palindrome_length]"
     ],
     "language": "python",
     "metadata": {},
     "outputs": [],
     "prompt_number": 5
    },
    {
     "cell_type": "code",
     "collapsed": false,
     "input": [
      "def get_outfnames(infile):\n",
      "    \"\"\"Adds '.clean' to input filename (before the extension).\n",
      "    Example: 'infile.fastq' becomes 'infile.clean.fastq'\"\"\"\n",
      "    out_fnames = []\n",
      "    in_fname = os.path.basename(infile)\n",
      "    [in_fname, in_ext] = os.path.splitext(in_fname)\n",
      "    # fastq outfile\n",
      "    out_fnames.append(in_fname + '.clean' + in_ext)\n",
      "    # palindrome sequences + counts\n",
      "    out_fnames.append(in_fname + '.palindromes.txt')\n",
      "    # palindrome lengths + counts\n",
      "    out_fnames.append(in_fname + '.palindrome_lengths.txt')\n",
      "    return out_fnames"
     ],
     "language": "python",
     "metadata": {},
     "outputs": [],
     "prompt_number": 6
    },
    {
     "cell_type": "code",
     "collapsed": false,
     "input": [
      "# first/last 10 RC of eachother\n",
      "assert test('AGTCGTAGCTGATGCTTAGGGGCTTACTAGGCTTGAAGCTACGACT') == ['AGTCGTAGCTGATGCTTAGGGGCTTACTAGGCTTGA','AGCTACGACT', 10]\n",
      "# one base\n",
      "assert test('AGTCGTAGCTGATGCTTAGGGGCTTACTAGGCTTGATGAGGATTAT') == ['AGTCGTAGCTGATGCTTAGGGGCTTACTAGGCTTGATGAGGATTA', 'T', 1]\n",
      "# no palindrome\n",
      "assert test('AGTCGTAGCTGATGCTTAGGGGCTTACTAGGCTTGATGAGGATTAA') == ['AGTCGTAGCTGATGCTTAGGGGCTTACTAGGCTTGATGAGGATTAA', '', 0]\n",
      "#test('')\n"
     ],
     "language": "python",
     "metadata": {},
     "outputs": [],
     "prompt_number": 34
    },
    {
     "cell_type": "code",
     "collapsed": false,
     "input": [
      "def process(infile):\n",
      "    count = 0\n",
      "    results = []\n",
      "    with open(out_fname, 'w') as out_fh:\n",
      "        for rec in SeqIO.parse(infile, \"fastq\"):\n",
      "            count += 1\n",
      "            if isSequence(rec):\n",
      "                new_rec, palindrome, length = check(rec)\n",
      "                # don't chenge when length of palindrom is below minimum\n",
      "                if length < shortest_length_to_check:\n",
      "                    new_rec = rec\n",
      "                else:\n",
      "                    # change record ID\n",
      "                    new_rec.description = '_cleaned_off_' + palindrome\n",
      "                    #print new_rec\n",
      "                    # log palindrome data\n",
      "                    palindromes[palindrome] = palindromes.get(palindrome, 0) +1\n",
      "                lengths[length] = lengths.get(length, 0) +1\n",
      "                results.append(new_rec)\n",
      "                if count == max_rec_to_process:\n",
      "                    break\n",
      "    yield results"
     ],
     "language": "python",
     "metadata": {},
     "outputs": [],
     "prompt_number": 35
    },
    {
     "cell_type": "code",
     "collapsed": false,
     "input": [
      "if __name__ == \"__main__\":\n",
      "\n",
      "    infile = '/projects/454data/in_progress/bastiaan/GM_historic_DNA/Hiseq_pilot/data/Subset_Lex.fastq'\n",
      "    infile = '/projects/454data/in_progress/bastiaan/GM_historic_DNA/Hiseq_pilot/data/Determ.Underterm.collapsed.fastq'\n",
      "    infile = '/projects/454data/in_progress/bastiaan/GM_historic_DNA/Hiseq_pilot/data/All_trimmed_forward.fastq'\n",
      "    #infile = '/projects/cees/in_progress/lex/temp.fastq'\n",
      "    #infile = '/Users/alexajo/Dropbox/current/iPython/ancient_dna_terminal_palindrome_test.fastq'\n",
      "\n",
      "    [out_fname, out_pname, out_lname] = get_outfnames(infile)\n",
      "\n",
      "    palindromes = {}\n",
      "    lengths = {}\n",
      "\n",
      "    max_rec_to_process = 10000\n",
      "\n",
      "    out_fh = open(out_fname, \"w\")\n",
      "    count = SeqIO.write(next(process(infile)), out_fh, \"fastq\")\n",
      "    out_fh.close()\n",
      "    print \"Converted %i sequences\" % count\n",
      "    with open(out_pname, \"w\") as p_out_fh:\n",
      "        p_out_fh.write(\"palindrome\\tcount\\n\")\n",
      "        for p in palindromes.keys():\n",
      "            p_out_fh.write(\"%s\\t%s\\n\" %(p, palindromes[p]))\n",
      "\n",
      "    with open(out_lname, \"w\") as l_out_fh:\n",
      "        l_out_fh.write(\"palindrome_length\\tcount\\n\")\n",
      "        for l in sorted(lengths.iterkeys()):\n",
      "            l_out_fh.write(\"%s\\t%s\\n\" %(l, lengths[l]))"
     ],
     "language": "python",
     "metadata": {},
     "outputs": [
      {
       "output_type": "stream",
       "stream": "stdout",
       "text": [
        "Converted 10000 sequences\n"
       ]
      }
     ],
     "prompt_number": 50
    },
    {
     "cell_type": "code",
     "collapsed": false,
     "input": [
      "from matplotlib import pylab as plt\n",
      "ks = []\n",
      "vs = []\n",
      "for k, v in lengths.iteritems():\n",
      "    if k >0:\n",
      "        ks.append(k)\n",
      "        vs.append(v)\n",
      "\n",
      "plt.plot(ks, vs)\n",
      "#plt.xlim(1,max(lengths.keys()))"
     ],
     "language": "python",
     "metadata": {},
     "outputs": [
      {
       "output_type": "pyout",
       "prompt_number": 51,
       "text": [
        "[<matplotlib.lines.Line2D at 0x11423b9d0>]"
       ]
      },
      {
       "output_type": "display_data",
       "png": "[encoded data removed]"
      }
     ],
     "prompt_number": 51
    },
    {
     "cell_type": "code",
     "collapsed": false,
     "input": [
      "out_fname"
     ],
     "language": "python",
     "metadata": {},
     "outputs": [
      {
       "output_type": "pyout",
       "prompt_number": 47,
       "text": [
        "'temp.clean.fastq'"
       ]
      }
     ],
     "prompt_number": 47
    },
    {
     "cell_type": "code",
     "collapsed": false,
     "input": [],
     "language": "python",
     "metadata": {},
     "outputs": []
    }
   ],
   "metadata": {}
  }
 ]
}