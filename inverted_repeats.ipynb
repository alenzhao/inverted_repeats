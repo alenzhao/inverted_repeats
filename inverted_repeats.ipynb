{
 "metadata": {
  "name": "inverted_repeats"
 },
 "nbformat": 3,
 "nbformat_minor": 0,
 "worksheets": [
  {
   "cells": [
    {
     "cell_type": "code",
     "collapsed": false,
     "input": [
      "from Bio import Seq, SeqIO\n",
      "from Bio.Seq import Seq\n",
      "from Bio.SeqRecord import SeqRecord\n",
      "import os"
     ],
     "language": "python",
     "metadata": {},
     "outputs": [],
     "prompt_number": 1
    },
    {
     "cell_type": "code",
     "collapsed": false,
     "input": [
      "# global parameters\n",
      "shortest_length_to_check = 3\n",
      "longest_length_to_check = 200"
     ],
     "language": "python",
     "metadata": {},
     "outputs": [],
     "prompt_number": 2
    },
    {
     "cell_type": "code",
     "collapsed": false,
     "input": [
      "def isSequence(seq):\n",
      "    \"\"\"Check input is a sequence\"\"\"\n",
      "    test = True if type(seq) is Seq else False\n",
      "    test = True if len(seq) > 0 else False\n",
      "    return test"
     ],
     "language": "python",
     "metadata": {},
     "outputs": [],
     "prompt_number": 3
    },
    {
     "cell_type": "code",
     "collapsed": false,
     "input": [
      "def check(seq):\n",
      "    \"\"\"Check whether first x bases are the reverse complement of the last x bases\n",
      "       Returns sequence with the palindromic part removed, and the palindromic part\"\"\"\n",
      "    # expects a Bio.SeqRecord.SeqRecord\n",
      "    assert type(seq) == SeqRecord, \"Not a sequence record: \" + str(seq)\n",
      "    assert len(seq) > 0, \"Sequence length is zero: \" + str(seq)\n",
      "    palindrome_length = 0\n",
      "    # need to test whether seq is a reverse complement of itself\n",
      "    pass\n",
      "    # check if first x bases are a reverse complement of the last x bases\n",
      "    for i in range(len(seq)):\n",
      "        subseq = seq[0:i]\n",
      "        #print str(rec[-10:].reverse_complement().seq) == str(rec[0:10].seq)\n",
      "        if str(subseq.reverse_complement().seq) == str(seq[-i:].seq):\n",
      "            #print i, subseq.reverse_complement(), seq[-i:]\n",
      "            palindrome_length = len(subseq)\n",
      "        # check when no longer adding bases to palindrome\n",
      "        if palindrome_length > 0 and i > palindrome_length:\n",
      "            break\n",
      "        # check for maximum length to check reached\n",
      "        if i == longest_length_to_check - 1:\n",
      "            break\n",
      "        if palindrome_length > 0:\n",
      "            new_seq = seq[:-palindrome_length]\n",
      "            palindrome = str(seq[-palindrome_length:].seq)\n",
      "        else:\n",
      "            new_seq = seq\n",
      "            palindrome = ''\n",
      "    return [new_seq, palindrome, palindrome_length]"
     ],
     "language": "python",
     "metadata": {},
     "outputs": [],
     "prompt_number": 4
    },
    {
     "cell_type": "code",
     "collapsed": false,
     "input": [
      "def test(seq):\n",
      "    [new_seq, palindrome, palindrome_length] = check(SeqRecord(Seq(seq)))\n",
      "    return [str(new_seq.seq), palindrome, palindrome_length]"
     ],
     "language": "python",
     "metadata": {},
     "outputs": [],
     "prompt_number": 5
    },
    {
     "cell_type": "code",
     "collapsed": false,
     "input": [
      "def get_outfnames(infile):\n",
      "    \"\"\"Adds '.clean' to input filename (before the extension).\n",
      "    Example: 'infile.fastq' becomes 'infile.clean.fastq'\"\"\"\n",
      "    out_fnames = []\n",
      "    in_fname = os.path.basename(infile)\n",
      "    [in_fname, in_ext] = os.path.splitext(in_fname)\n",
      "    # fastq outfile\n",
      "    out_fnames.append(in_fname + '.clean' + in_ext)\n",
      "    # palindrome sequences + counts\n",
      "    out_fnames.append(in_fname + '.palindromes.txt')\n",
      "    # palindrome lengths + counts\n",
      "    out_fnames.append(in_fname + '.palindrome_lengths.txt')\n",
      "    return out_fnames"
     ],
     "language": "python",
     "metadata": {},
     "outputs": [],
     "prompt_number": 6
    },
    {
     "cell_type": "code",
     "collapsed": false,
     "input": [
      "# first/last 10 RC of eachother\n",
      "assert test('AGTCGTAGCTGATGCTTAGGGGCTTACTAGGCTTGAAGCTACGACT') == ['AGTCGTAGCTGATGCTTAGGGGCTTACTAGGCTTGA','AGCTACGACT', 10]\n",
      "# one base\n",
      "assert test('AGTCGTAGCTGATGCTTAGGGGCTTACTAGGCTTGATGAGGATTAT') == ['AGTCGTAGCTGATGCTTAGGGGCTTACTAGGCTTGATGAGGATTA', 'T', 1]\n",
      "# no palindrome\n",
      "assert test('AGTCGTAGCTGATGCTTAGGGGCTTACTAGGCTTGATGAGGATTAA') == ['AGTCGTAGCTGATGCTTAGGGGCTTACTAGGCTTGATGAGGATTAA', '', 0]\n",
      "#test('')\n"
     ],
     "language": "python",
     "metadata": {},
     "outputs": [],
     "prompt_number": 34
    },
    {
     "cell_type": "code",
     "collapsed": false,
     "input": [
      "def process(rec):\n",
      "    if isSequence(rec):\n",
      "\t\tnew_rec, palindrome, length = check(rec)\n",
      "\t\t# don't chenge when length of palindrom is below minimum\n",
      "\t\tif length < shortest_length_to_check:\n",
      "\t\t\tnew_rec = rec\n",
      "\t\telse:\n",
      "\t\t\t# change record ID\n",
      "\t\t\tnew_rec.description = '_cleaned_off_' + palindrome\n",
      "\t\t\t#print new_rec\n",
      "\t\t\t# log palindrome data\n",
      "\t\t\tpalindromes[palindrome] = palindromes.get(palindrome, 0) +1\n",
      "\t\tlengths[length] = lengths.get(length, 0) +1\n",
      "    return new_rec"
     ],
     "language": "python",
     "metadata": {},
     "outputs": [],
     "prompt_number": 23
    },
    {
     "cell_type": "code",
     "collapsed": false,
     "input": [
      "from matplotlib import pylab as plt\n",
      "ks = []\n",
      "vs = []\n",
      "for k, v in lengths.iteritems():\n",
      "    if k >0:\n",
      "        ks.append(k)\n",
      "        vs.append(v)\n",
      "\n",
      "plt.plot(ks, vs)\n",
      "#plt.xlim(1,max(lengths.keys()))"
     ],
     "language": "python",
     "metadata": {},
     "outputs": [
      {
       "output_type": "pyout",
       "prompt_number": 35,
       "text": [
        "[<matplotlib.lines.Line2D at 0x10bb6b890>]"
       ]
      },
      {
       "output_type": "display_data",
       "png": "[encoded data removed]"
      }
     ],
     "prompt_number": 35
    },
    {
     "cell_type": "code",
     "collapsed": false,
     "input": [
      "if __name__ == \"__main__\":\n",
      "    path = '/Users/alexajo/Dropbox/current/inverted_repeats/data/'\n",
      "#    path = '/projects/454data/in_progress/bastiaan/GM_historic_DNA/Hiseq_pilot/data/'\n",
      "    infile = 'Subset_Lex.fastq'\n",
      "    #infile = 'Determ.Underterm.collapsed.fastq'\n",
      "    #infile = 'All_trimmed_forward.fastq'\n",
      "    #infile = 'temp.fastq'\n",
      "    #infile = 'ancient_dna_terminal_palindrome_test.fastq'\n",
      "    #infile = 'ancient_dna_terminal_palindrome_test.fastq'\n",
      "\n",
      "    [out_fname, out_pname, out_lname] = get_outfnames(path + infile)\n",
      "    \n",
      "    palindromes = {}\n",
      "    lengths = {}\n",
      "    total_trimmed = 0\n",
      "    processed = 0\n",
      "\n",
      "    max_rec_to_process = 1000\n",
      "    with open(path + out_fname, 'w') as out_fh:\n",
      "        for rec in SeqIO.parse(path+infile, \"fastq\"):\n",
      "            processed += 1\n",
      "            new_rec = process(rec)\n",
      "            out_fh.write(new_rec.format(\"fastq\"))\n",
      "            if processed == max_rec_to_process:\n",
      "                break\n",
      "    print \"Processed %i records\" % processed"
     ],
     "language": "python",
     "metadata": {},
     "outputs": [
      {
       "output_type": "stream",
       "stream": "stdout",
       "text": [
        "Processed 1000 records\n"
       ]
      }
     ],
     "prompt_number": 33
    },
    {
     "cell_type": "code",
     "collapsed": false,
     "input": [],
     "language": "python",
     "metadata": {},
     "outputs": []
    }
   ],
   "metadata": {}
  }
 ]
}