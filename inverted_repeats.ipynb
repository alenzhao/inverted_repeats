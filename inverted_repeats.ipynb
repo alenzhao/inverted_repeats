{
 "metadata": {
  "name": "inverted_repeats"
 },
 "nbformat": 3,
 "nbformat_minor": 0,
 "worksheets": [
  {
   "cells": [
    {
     "cell_type": "code",
     "collapsed": false,
     "input": [
      "from Bio import Seq, SeqIO\n",
      "from Bio.Seq import Seq\n",
      "from Bio.SeqRecord import SeqRecord\n",
      "import os"
     ],
     "language": "python",
     "metadata": {},
     "outputs": [],
     "prompt_number": 1
    },
    {
     "cell_type": "code",
     "collapsed": false,
     "input": [
      "# global parameters\n",
      "shortest_length_to_check = 3\n",
      "longest_length_to_check = 200"
     ],
     "language": "python",
     "metadata": {},
     "outputs": [],
     "prompt_number": 2
    },
    {
     "cell_type": "code",
     "collapsed": false,
     "input": [
      "def isSequence(seq):\n",
      "    \"\"\"Check input is a sequence\"\"\"\n",
      "    test = True if type(seq) is Seq else False\n",
      "    test = True if len(seq) > 0 else False\n",
      "    return test"
     ],
     "language": "python",
     "metadata": {},
     "outputs": [],
     "prompt_number": 3
    },
    {
     "cell_type": "code",
     "collapsed": false,
     "input": [
      "def check(seq):\n",
      "    \"\"\"Check whether first x bases are the reverse complement of the last x bases\n",
      "       Returns sequence with the palindromic part removed, and the palindromic part\"\"\"\n",
      "    # expects a Bio.SeqRecord.SeqRecord\n",
      "    assert type(seq) == SeqRecord, \"Not a sequence record: \" + str(seq)\n",
      "    assert len(seq) > 0, \"Sequence length is zero: \" + str(seq)\n",
      "    inv_rep_length = 0\n",
      "    rc_seq = seq.reverse_complement()\n",
      "    # convert to text format\n",
      "    seq_txt = str(seq.seq)\n",
      "    rc_seq_txt = str(rc_seq.seq)\n",
      "    \n",
      "    # need to test whether seq is a reverse complement of itself\n",
      "    pass\n",
      "\n",
      "    # check if first x bases are a reverse complement of the last x bases\n",
      "    for i in range(1, len(seq_txt)):\n",
      "        # slower: if str(seq_txt[0:i].reverse_complement().seq) == str(seq[-i:].seq):\n",
      "        #if str(rc_seq[-i:].seq) == str(seq[-i:].seq):\n",
      "        if rc_seq_txt[-i:] == seq_txt[-i:]:\n",
      "            inv_rep_length = i\n",
      "        # check when no longer adding bases to inv_rep\n",
      "        if inv_rep_length > 0 and i > inv_rep_length:\n",
      "            break\n",
      "        # check for maximum length to check reached\n",
      "        if i == longest_length_to_check - 1:\n",
      "            break\n",
      "        if inv_rep_length > 0:\n",
      "            new_seq = seq[:-inv_rep_length]\n",
      "            inv_rep = str(seq[-inv_rep_length:].seq)\n",
      "        else:\n",
      "            new_seq = seq\n",
      "            inv_rep = ''\n",
      "    return [new_seq, inv_rep, inv_rep_length]"
     ],
     "language": "python",
     "metadata": {},
     "outputs": [],
     "prompt_number": 4
    },
    {
     "cell_type": "code",
     "collapsed": false,
     "input": [
      "def test(seq):\n",
      "    return extract_inv_repeat(SeqRecord(Seq(seq)))"
     ],
     "language": "python",
     "metadata": {},
     "outputs": [],
     "prompt_number": 18
    },
    {
     "cell_type": "code",
     "collapsed": false,
     "input": [
      "def get_outfnames(infile):\n",
      "    \"\"\"Adds '.clean' to input filename (before the extension).\n",
      "    Example: 'infile.fastq' becomes 'infile.clean.fastq'\"\"\"\n",
      "    out_fnames = []\n",
      "    in_fname = os.path.basename(infile)\n",
      "    [in_fname, in_ext] = os.path.splitext(in_fname)\n",
      "    # fastq outfile\n",
      "    out_fnames.append(in_fname + '.clean' + in_ext)\n",
      "    # inv_rep sequences + counts\n",
      "    out_fnames.append(in_fname + '.inv_reps.txt')\n",
      "    # inv_rep lengths + counts\n",
      "    out_fnames.append(in_fname + '.inv_rep_lengths.txt')\n",
      "    return out_fnames"
     ],
     "language": "python",
     "metadata": {},
     "outputs": [],
     "prompt_number": 5
    },
    {
     "cell_type": "code",
     "collapsed": false,
     "input": [
      "# first/last 10 RC of eachother\n",
      "assert test('AGTCGTAGCTGATGCTTAGGGGCTTACTAGGCTTGAAGCTACGACT') == ['AGTCGTAGCTGATGCTTAGGGGCTTACTAGGCTTGA', 'AGCTACGACT', 10]\n",
      "# one base\n",
      "assert test('AGTCGTAGCTGATGCTTAGGGGCTTACTAGGCTTGATGAGGATTAT') == ['AGTCGTAGCTGATGCTTAGGGGCTTACTAGGCTTGATGAGGATTA', 'T', 1]\n",
      "# no inv_rep\n",
      "assert test('AGTCGTAGCTGATGCTTAGGGGCTTACTAGGCTTGATGAGGATTAA') == ['AGTCGTAGCTGATGCTTAGGGGCTTACTAGGCTTGATGAGGATTAA', '', 0]\n",
      "#test('')\n"
     ],
     "language": "python",
     "metadata": {},
     "outputs": [],
     "prompt_number": 21
    },
    {
     "cell_type": "code",
     "collapsed": false,
     "input": [
      "def process(rec):\n",
      "    if isSequence(rec):\n",
      "\t\tnew_rec, inv_rep, length = check(rec)\n",
      "\t\t# don't chenge when length of palindrom is below minimum\n",
      "\t\tif length < shortest_length_to_check:\n",
      "\t\t\tnew_rec = rec\n",
      "\t\telse:\n",
      "\t\t\t# change record ID\n",
      "\t\t\tnew_rec.description = 'cleaned_off_' + inv_rep\n",
      "    return new_rec, inv_rep, length"
     ],
     "language": "python",
     "metadata": {},
     "outputs": [],
     "prompt_number": 6
    },
    {
     "cell_type": "code",
     "collapsed": false,
     "input": [
      "def plot(lengths):\n",
      "    from matplotlib import pylab as plt\n",
      "    ks = []\n",
      "    vs = []\n",
      "    for k, v in lengths.iteritems():\n",
      "        if k >0:\n",
      "            ks.append(k)\n",
      "            vs.append(v)\n",
      "    plt.plot(ks, vs)\n",
      "    plt.xlim(1,max(lengths.keys()))"
     ],
     "language": "python",
     "metadata": {},
     "outputs": [],
     "prompt_number": 13
    },
    {
     "cell_type": "code",
     "collapsed": false,
     "input": [
      "#%%timeit  -n 10\n",
      "# OLD\n",
      "if __name__ == \"__main__\":\n",
      "    path = '/Users/alexajo/Dropbox/current/inverted_repeats/data/'\n",
      "    #path = '/projects/454data/in_progress/bastiaan/GM_historic_DNA/Hiseq_pilot/data/'\n",
      "    #path = '/projects/454data/in_progress/bastiaan/GM_historic_DNA/Hiseq_pilot/data/test_Lex/'\n",
      "    infile = 'Subset_Lex.fastq'\n",
      "    #infile = 'Determ.Underterm.collapsed.fastq'\n",
      "    #infile = 'All_trimmed_forward.fastq'\n",
      "    #infile = 'temp.fastq'\n",
      "    #infile = 'ancient_dna_terminal_inv_rep_test.fastq'\n",
      "    #infile = 'ancient_dna_terminal_inv_rep_test.fastq'\n",
      "\n",
      "    [out_fname, out_rname, out_lname] = get_outfnames(path + infile)\n",
      "    \n",
      "    inv_reps = {}\n",
      "    lengths = {}\n",
      "    total_trimmed = 0\n",
      "    processed = 0\n",
      "    \n",
      "    max_rec_to_process = 1000\n",
      "    print \"Processing sequences...\"\n",
      "    \n",
      "    with open(path + out_fname, 'w') as out_fh:\n",
      "        for rec in SeqIO.parse(path+infile, \"fastq\"):\n",
      "            processed += 1\n",
      "            new_rec, inv_rep, inv_rep_length = process(rec)\n",
      "            out_fh.write(new_rec.format(\"fastq\"))\n",
      "            out_fh.flush()\n",
      "            if inv_rep_length > shortest_length_to_check:\n",
      "                inv_reps[inv_rep] = inv_reps.get(inv_rep, 0) +1\n",
      "            lengths[inv_rep_length] = lengths.get(inv_rep_length, 0) +1\n",
      "            if inv_rep_length > shortest_length_to_check:\n",
      "                total_trimmed += 1\n",
      "            if processed == max_rec_to_process:\n",
      "                break\n",
      "        print \"Writing summary files...\"\n",
      "        \n",
      "\twith open(path + out_rname, \"w\") as p_out_fh:\n",
      "\t\tp_out_fh.write(\"inverted_repeat\\tcount\\n\")\n",
      "\t\tfor p in inv_reps.keys():\n",
      "\t\t\tp_out_fh.write(\"%s\\t%s\\n\" %(p, inv_reps[p]))\n",
      "                           \n",
      "\twith open(path + out_lname, \"w\") as l_out_fh:\n",
      "\t\tl_out_fh.write(\"repeat_length\\tcount\\n\")\n",
      "\t\tfor l in sorted(lengths.iterkeys()):\n",
      "\t\t\tl_out_fh.write(\"%s\\t%s\\n\" %(l, lengths[l]))\n",
      "            \n",
      "    print \"Processed %i records, found %i inverted repeats\" % (processed, total_trimmed)"
     ],
     "language": "python",
     "metadata": {},
     "outputs": [
      {
       "output_type": "stream",
       "stream": "stdout",
       "text": [
        "Processing sequences...\n",
        "Writing summary files..."
       ]
      },
      {
       "output_type": "stream",
       "stream": "stdout",
       "text": [
        "\n",
        "Processed 1000 records, found 777 inverted repeats\n"
       ]
      }
     ],
     "prompt_number": 11
    },
    {
     "cell_type": "markdown",
     "metadata": {},
     "source": [
      "original: 10 loops, best of 3: 2.15 s per loop  \n",
      "only once reverse_complement: 10 loops, best of 3: 1.89 s per loop  \n",
      "only one time str(): 10 loops, best of 3: 591 ms per loop"
     ]
    },
    {
     "cell_type": "code",
     "collapsed": false,
     "input": [
      "def find_inv_repeat(seq, seq_rc):\n",
      "    \"\"\"Check for inverted repeat:\n",
      "       whether first x bases are the reverse complement of the last x bases\n",
      "       Returns starting position of the inverted repeat (or 0)\"\"\"\n",
      "\n",
      "    # need to test whether seq is a reverse complement of itself\n",
      "    pass\n",
      "\n",
      "    inv_rep_length = 0\n",
      "    # check if first x bases are a reverse complement of the last x bases\n",
      "    for i in range(1, len(seq)):\n",
      "        if seq_rc[-i:] == seq[-i:]:\n",
      "            inv_rep_length = i\n",
      "        else:\n",
      "            break\n",
      "    return inv_rep_length"
     ],
     "language": "python",
     "metadata": {},
     "outputs": [],
     "prompt_number": 6
    },
    {
     "cell_type": "code",
     "collapsed": false,
     "input": [
      "def extract_inv_repeat(seq):\n",
      "    \"\"\"After finding posisiton of inverted repeat - if any - \n",
      "       returns Bio.SeqRecord with the palindromic part removed, \n",
      "       and the sequence of the palindromic part\"\"\"\n",
      "\n",
      "    # expects a Bio.SeqRecord.SeqRecord\n",
      "    assert type(seq) == SeqRecord, \"Not a sequence record: '%s'\" % str(seq)\n",
      "    assert len(seq) > 0, \"Sequence length is zero:\\n\" + str(seq)\n",
      "\n",
      "    # get sequence and reverse complement as text format\n",
      "    seq_txt = str(seq.seq)\n",
      "    rc_seq_txt = str(seq.reverse_complement().seq)\n",
      "    \n",
      "    inv_rep_length = find_inv_repeat(seq_txt, rc_seq_txt)\n",
      "    if inv_rep_length > 0:\n",
      "        new_seq = seq[:-inv_rep_length]\n",
      "        inv_rep = str(seq[-inv_rep_length:].seq)\n",
      "    else:\n",
      "        new_seq = seq\n",
      "        inv_rep = ''\n",
      "\n",
      "    return [str(new_seq.seq), inv_rep, inv_rep_length]"
     ],
     "language": "python",
     "metadata": {},
     "outputs": [],
     "prompt_number": 7
    },
    {
     "cell_type": "code",
     "collapsed": false,
     "input": [
      "# NEW\n",
      "#%%timeit -n 10\n",
      "if __name__ == \"__main__\":\n",
      "    path = '/Users/alexajo/Dropbox/current/inverted_repeats/data/'\n",
      "    #path = '/projects/454data/in_progress/bastiaan/GM_historic_DNA/Hiseq_pilot/data/'\n",
      "    #path = '/projects/454data/in_progress/bastiaan/GM_historic_DNA/Hiseq_pilot/data/test_Lex/'\n",
      "    infile = 'Subset_Lex.fastq'\n",
      "    #infile = 'Determ.Underterm.collapsed.fastq'\n",
      "    #infile = 'All_trimmed_forward.fastq'\n",
      "    #infile = 'temp.fastq'\n",
      "    #infile = 'ancient_dna_terminal_inv_rep_test.fastq'\n",
      "    #infile = 'ancient_dna_terminal_inv_rep_test.fastq'\n",
      "\n",
      "    [out_fname, out_rname, out_lname] = get_outfnames(path + infile)\n",
      "    \n",
      "    inv_reps = {}\n",
      "    lengths = {}\n",
      "    total_trimmed = 0\n",
      "    processed = 0\n",
      "    \n",
      "    max_rec_to_process = 1000\n",
      "    print \"Processing sequences...\"\n",
      "    \n",
      "    with open(path + out_fname, 'w') as out_fh:\n",
      "        for rec in SeqIO.parse(path+infile, \"fastq\"):\n",
      "            processed += 1\n",
      "            new_rec, inv_rep = extract_inv_repeat(rec)\n",
      "            inv_rep_length = len(inv_rep)\n",
      "            out_fh.write(new_rec.format(\"fastq\"))\n",
      "            if inv_rep_length > shortest_length_to_check:\n",
      "                inv_reps[inv_rep] = inv_reps.get(inv_rep, 0) +1\n",
      "            lengths[inv_rep_length] = lengths.get(inv_rep_length, 0) +1\n",
      "            if inv_rep_length > shortest_length_to_check:\n",
      "                total_trimmed += 1\n",
      "            if processed == max_rec_to_process:\n",
      "                break\n",
      "        print \"Writing summary files...\"\n",
      "        \n",
      "\twith open(path + out_rname, \"w\") as p_out_fh:\n",
      "\t\tp_out_fh.write(\"inverted_repeat\\tcount\\n\")\n",
      "\t\tfor p in inv_reps.keys():\n",
      "\t\t\tp_out_fh.write(\"%s\\t%s\\n\" %(p, inv_reps[p]))\n",
      "                           \n",
      "\twith open(path + out_lname, \"w\") as l_out_fh:\n",
      "\t\tl_out_fh.write(\"repeat_length\\tcount\\n\")\n",
      "\t\tfor l in sorted(lengths.iterkeys()):\n",
      "\t\t\tl_out_fh.write(\"%s\\t%s\\n\" %(l, lengths[l]))\n",
      "            \n",
      "    print \"Processed %i records, found %i inverted repeats\" % (processed, total_trimmed)"
     ],
     "language": "python",
     "metadata": {},
     "outputs": [
      {
       "output_type": "stream",
       "stream": "stdout",
       "text": [
        "Processing sequences...\n",
        "Writing summary files..."
       ]
      },
      {
       "output_type": "stream",
       "stream": "stdout",
       "text": [
        "\n",
        "Processed 1000 records, found 1000 inverted repeats\n"
       ]
      }
     ],
     "prompt_number": 41
    },
    {
     "cell_type": "code",
     "collapsed": false,
     "input": [],
     "language": "python",
     "metadata": {},
     "outputs": []
    }
   ],
   "metadata": {}
  }
 ]
}