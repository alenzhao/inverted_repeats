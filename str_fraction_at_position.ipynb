{
 "metadata": {
  "name": "str_fraction_at_position"
 },
 "nbformat": 3,
 "nbformat_minor": 0,
 "worksheets": [
  {
   "cells": [
    {
     "cell_type": "markdown",
     "metadata": {},
     "source": [
      "**To do**\n",
      "\n",
      "* ..."
     ]
    },
    {
     "cell_type": "code",
     "collapsed": false,
     "input": [
      "in_fasta = '../data/temp_trf/temp_trf.fasta'\n",
      "in_dat = '../data/temp_trf.fasta.2.7.7.80.10.50.500.dat'\n",
      "#in_dat = '../data/temp_trf.fasta.2.7.7.80.10.50.500_2073_seqs.dat'"
     ],
     "language": "python",
     "metadata": {},
     "outputs": [],
     "prompt_number": 1
    },
    {
     "cell_type": "code",
     "collapsed": false,
     "input": [
      "def add_readdata_to_pool(read_positions):\n",
      "    if len(read_positions.keys()) > 0:\n",
      "        for pos in read_positions.keys():\n",
      "            all_positions[pos] = all_positions.get(pos, 0) + 1\n",
      "        return 1\n",
      "    return 0"
     ],
     "language": "python",
     "metadata": {},
     "outputs": [],
     "prompt_number": 2
    },
    {
     "cell_type": "code",
     "collapsed": false,
     "input": [
      "seq_count = 0\n",
      "seq_w_str_count = 0\n",
      "all_positions = {}\n",
      "read_positions = {}\n",
      "with open(in_dat) as fh:\n",
      "    for line in fh:\n",
      "        line = line.strip()\n",
      "        # skip empty lines and lines stating prgogram parameters\n",
      "        if len(line) == 0 or line.startswith('Parameters: '):\n",
      "            continue\n",
      "        if line.startswith('Sequence:'):\n",
      "            # first or new sequence found\n",
      "            # add previous read data to pool\n",
      "            seq_w_str_count += add_readdata_to_pool(read_positions)\n",
      "            # reset\n",
      "            read_positions = {}\n",
      "            seq_count += 1 \n",
      "            seq_id = line[10:]\n",
      "        elif seq_count > 0:\n",
      "            elements = line.split(' ')\n",
      "            start = int(elements[0])\n",
      "            stop = int(elements[1])\n",
      "            for i in range(start, stop):\n",
      "                read_positions[i] = 1\n",
      "\n",
      "#add last sequence\n",
      "seq_w_str_count += add_readdata_to_pool(read_positions)\n",
      "print \"Processed %s sequences, %s with one or more STR's\" % (seq_count, seq_w_str_count)"
     ],
     "language": "python",
     "metadata": {},
     "outputs": [
      {
       "output_type": "stream",
       "stream": "stdout",
       "text": [
        "Processed 10000 sequences, 953 with one or more STR's\n"
       ]
      }
     ],
     "prompt_number": 3
    },
    {
     "cell_type": "code",
     "collapsed": false,
     "input": [
      "plot(all_positions.keys(),all_positions.values())\n",
      "title('Positions of STRs in reads')\n",
      "xlabel('Read position (bp)')\n",
      "ylabel('Number of reads with STR at that position')"
     ],
     "language": "python",
     "metadata": {},
     "outputs": [
      {
       "output_type": "pyout",
       "prompt_number": 8,
       "text": [
        "<matplotlib.text.Text at 0x6842b30>"
       ]
      },
      {
       "output_type": "display_data",
       "png": "[encoded data removed]"
      }
     ],
     "prompt_number": 8
    },
    {
     "cell_type": "code",
     "collapsed": false,
     "input": [
      "max(all_positions.values())"
     ],
     "language": "python",
     "metadata": {},
     "outputs": [
      {
       "output_type": "pyout",
       "prompt_number": 5,
       "text": [
        "795"
       ]
      }
     ],
     "prompt_number": 5
    },
    {
     "cell_type": "raw",
     "metadata": {},
     "source": [
      "# example trf dat output line with repeat:\n",
      "# 1 39 2 19.5 2 100 0 78 0 51 0 48 1.00 CT CTCTCTCTCTCTCTCTCTCTCTCTCTCTCTCTCTCTCTC\n",
      "# start, stop, period_size, copies, consensus_size, ..., consensus_seq, repeat_seq"
     ]
    }
   ],
   "metadata": {}
  }
 ]
}