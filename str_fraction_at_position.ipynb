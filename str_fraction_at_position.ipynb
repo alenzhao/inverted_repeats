{
 "metadata": {
  "name": "str_fraction_at_position"
 },
 "nbformat": 3,
 "nbformat_minor": 0,
 "worksheets": [
  {
   "cells": [
    {
     "cell_type": "code",
     "collapsed": false,
     "input": [
      "in_fasta = '../data/temp_trf/temp_trf.fasta'\n",
      "in_dat = '../data/temp_trf.fasta.2.7.7.80.10.50.500.dat'"
     ],
     "language": "python",
     "metadata": {},
     "outputs": [],
     "prompt_number": 56
    },
    {
     "cell_type": "code",
     "collapsed": false,
     "input": [
      "seq_count = 0\n",
      "positions = {}\n",
      "with open(in_dat) as fh:\n",
      "    for line in fh:\n",
      "        line = line.strip()\n",
      "        # skip empty lines and lines stating prgogram parameters\n",
      "        if len(line) == 0 or line.startswith('Parameters: '):\n",
      "            continue\n",
      "        if line.startswith('Sequence:'):\n",
      "            # first sequence found, start collecting\n",
      "            seq_count += 1 \n",
      "            seq_id = line[10:]\n",
      "        elif seq_count > 0:\n",
      "            elements = line.split(' ')\n",
      "            start = int(elements[0])\n",
      "            stop = int(elements[1])\n",
      "            for i in range(start, stop):\n",
      "                positions[i] = positions.get(i, 0) + 1\n",
      "print \"Processed %s sequences\" %seq_count"
     ],
     "language": "python",
     "metadata": {},
     "outputs": [
      {
       "output_type": "stream",
       "stream": "stdout",
       "text": [
        "Processed 10000 sequences\n"
       ]
      }
     ],
     "prompt_number": 75
    },
    {
     "cell_type": "code",
     "collapsed": false,
     "input": [
      "plot(positions.keys(),positions.values())"
     ],
     "language": "python",
     "metadata": {},
     "outputs": [
      {
       "output_type": "pyout",
       "prompt_number": 73,
       "text": [
        "[<matplotlib.lines.Line2D at 0x10bb01790>]"
       ]
      },
      {
       "output_type": "display_data",
       "png": "[encoded data removed]"
      }
     ],
     "prompt_number": 73
    },
    {
     "cell_type": "code",
     "collapsed": false,
     "input": [
      "max(positions.values())"
     ],
     "language": "python",
     "metadata": {},
     "outputs": [
      {
       "output_type": "pyout",
       "prompt_number": 74,
       "text": [
        "1077"
       ]
      }
     ],
     "prompt_number": 74
    },
    {
     "cell_type": "code",
     "collapsed": false,
     "input": [
      "positions"
     ],
     "language": "python",
     "metadata": {},
     "outputs": [
      {
       "output_type": "pyout",
       "prompt_number": 62,
       "text": [
        "{1: 4,\n",
        " 2: 4,\n",
        " 3: 4,\n",
        " 4: 4,\n",
        " 5: 4,\n",
        " 6: 4,\n",
        " 7: 4,\n",
        " 8: 4,\n",
        " 9: 4,\n",
        " 10: 4,\n",
        " 11: 4,\n",
        " 12: 4,\n",
        " 13: 4,\n",
        " 14: 4,\n",
        " 15: 4,\n",
        " 16: 4,\n",
        " 17: 4,\n",
        " 18: 4,\n",
        " 19: 4,\n",
        " 20: 4,\n",
        " 21: 4,\n",
        " 22: 5,\n",
        " 23: 5,\n",
        " 24: 5,\n",
        " 25: 5,\n",
        " 26: 5,\n",
        " 27: 5,\n",
        " 28: 5,\n",
        " 29: 5,\n",
        " 30: 5,\n",
        " 31: 5,\n",
        " 32: 5,\n",
        " 33: 5,\n",
        " 34: 5,\n",
        " 35: 4,\n",
        " 36: 4,\n",
        " 37: 4,\n",
        " 38: 4,\n",
        " 39: 4,\n",
        " 40: 4,\n",
        " 41: 4,\n",
        " 42: 4,\n",
        " 43: 4,\n",
        " 44: 4,\n",
        " 45: 4,\n",
        " 46: 4,\n",
        " 47: 4,\n",
        " 48: 4,\n",
        " 49: 4,\n",
        " 50: 4,\n",
        " 51: 4,\n",
        " 52: 4,\n",
        " 53: 4,\n",
        " 54: 3,\n",
        " 55: 3,\n",
        " 56: 2,\n",
        " 57: 2,\n",
        " 58: 2,\n",
        " 59: 2,\n",
        " 60: 1,\n",
        " 61: 1,\n",
        " 62: 1,\n",
        " 63: 1,\n",
        " 64: 1,\n",
        " 65: 1,\n",
        " 66: 1,\n",
        " 67: 1,\n",
        " 68: 1,\n",
        " 69: 1,\n",
        " 70: 1,\n",
        " 71: 1,\n",
        " 72: 1,\n",
        " 73: 1,\n",
        " 74: 1,\n",
        " 75: 1,\n",
        " 76: 1,\n",
        " 77: 1,\n",
        " 78: 1,\n",
        " 79: 1,\n",
        " 80: 1,\n",
        " 81: 1,\n",
        " 82: 1,\n",
        " 83: 1,\n",
        " 84: 1,\n",
        " 85: 1,\n",
        " 86: 1,\n",
        " 87: 1,\n",
        " 88: 1,\n",
        " 89: 1,\n",
        " 90: 1,\n",
        " 91: 1,\n",
        " 92: 1,\n",
        " 93: 1,\n",
        " 94: 1,\n",
        " 95: 1,\n",
        " 96: 1,\n",
        " 97: 1,\n",
        " 98: 1,\n",
        " 99: 1}"
       ]
      }
     ],
     "prompt_number": 62
    },
    {
     "cell_type": "raw",
     "metadata": {},
     "source": [
      "# example trf dat output line with repeat:\n",
      "# 1 39 2 19.5 2 100 0 78 0 51 0 48 1.00 CT CTCTCTCTCTCTCTCTCTCTCTCTCTCTCTCTCTCTCTC\n",
      "# start, stop, period_size, copies, consensus_size, ..., consensus_seq, repeat_seq"
     ]
    }
   ],
   "metadata": {}
  }
 ]
}